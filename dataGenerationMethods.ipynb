{
 "metadata": {
  "language_info": {
   "codemirror_mode": {
    "name": "ipython",
    "version": 3
   },
   "file_extension": ".py",
   "mimetype": "text/x-python",
   "name": "python",
   "nbconvert_exporter": "python",
   "pygments_lexer": "ipython3",
   "version": "3.7.4"
  },
  "orig_nbformat": 2,
  "kernelspec": {
   "name": "python37464bit18617f3ce48b4dcb85dfab7f9f539fcc",
   "display_name": "Python 3.7.4 64-bit ('python')"
  },
  "metadata": {
   "interpreter": {
    "hash": "df955ce39d0f31d56d4bb2fe0a613e5326ba60723fd33d8303a3aede8f65715c"
   }
  }
 },
 "nbformat": 4,
 "nbformat_minor": 2,
 "cells": [
  {
   "cell_type": "code",
   "execution_count": null,
   "metadata": {},
   "outputs": [],
   "source": [
    "Three Methods of generating the user historical records"
   ]
  },
  {
   "cell_type": "code",
   "execution_count": 4,
   "metadata": {},
   "outputs": [],
   "source": [
    "# Method One:\n",
    "# Use the Whole Recommender System API\n",
    "from API_Main import TravelOffer_RS\n",
    "test = TravelOffer_RS()"
   ]
  },
  {
   "cell_type": "code",
   "execution_count": 5,
   "metadata": {},
   "outputs": [
    {
     "output_type": "stream",
     "name": "stdout",
     "text": [
      "\n>>>\nUser TEST001 `s historical records has been generated in the file \n/Users/gleonardo/Downloads/TravelOffer_Recommendation-main/TEST_DATA/HISTORICAL_DATA\n\n"
     ]
    }
   ],
   "source": [
    "username = 'TEST001'\n",
    "test.his._GenerateHis2File(username)"
   ]
  },
  {
   "cell_type": "code",
   "execution_count": 6,
   "metadata": {},
   "outputs": [],
   "source": [
    "# Method Two:\n",
    "# Use AccuracyEval.py to generate the historical records for a series of users\n",
    "from AccuracyEval import ACC_EVAL\n",
    "acc = ACC_EVAL()"
   ]
  },
  {
   "cell_type": "code",
   "execution_count": 8,
   "metadata": {},
   "outputs": [
    {
     "output_type": "stream",
     "name": "stdout",
     "text": [
      "\n",
      ">>>\n",
      "User TESTDATA_0 `s historical records has been generated in the file \n",
      "/Users/gleonardo/Downloads/TravelOffer_Recommendation-main/TEST_DATA/HISTORICAL_DATA\n",
      "\n",
      "\n",
      ">>>\n",
      "User TESTDATA_1 `s historical records has been generated in the file \n",
      "/Users/gleonardo/Downloads/TravelOffer_Recommendation-main/TEST_DATA/HISTORICAL_DATA\n",
      "\n",
      "\n",
      ">>>\n",
      "User TESTDATA_2 `s historical records has been generated in the file \n",
      "/Users/gleonardo/Downloads/TravelOffer_Recommendation-main/TEST_DATA/HISTORICAL_DATA\n",
      "\n",
      "\n",
      ">>>\n",
      "User TESTDATA_3 `s historical records has been generated in the file \n",
      "/Users/gleonardo/Downloads/TravelOffer_Recommendation-main/TEST_DATA/HISTORICAL_DATA\n",
      "\n",
      "\n",
      ">>>\n",
      "User TESTDATA_4 `s historical records has been generated in the file \n",
      "/Users/gleonardo/Downloads/TravelOffer_Recommendation-main/TEST_DATA/HISTORICAL_DATA\n",
      "\n",
      "\n",
      ">>>\n",
      "User TESTDATA_5 `s historical records has been generated in the file \n",
      "/Users/gleonardo/Downloads/TravelOffer_Recommendation-main/TEST_DATA/HISTORICAL_DATA\n",
      "\n",
      "\n",
      ">>>\n",
      "User TESTDATA_6 `s historical records has been generated in the file \n",
      "/Users/gleonardo/Downloads/TravelOffer_Recommendation-main/TEST_DATA/HISTORICAL_DATA\n",
      "\n",
      "\n",
      ">>>\n",
      "User TESTDATA_7 `s historical records has been generated in the file \n",
      "/Users/gleonardo/Downloads/TravelOffer_Recommendation-main/TEST_DATA/HISTORICAL_DATA\n",
      "\n",
      "\n",
      ">>>\n",
      "User TESTDATA_8 `s historical records has been generated in the file \n",
      "/Users/gleonardo/Downloads/TravelOffer_Recommendation-main/TEST_DATA/HISTORICAL_DATA\n",
      "\n",
      "\n",
      ">>>\n",
      "User TESTDATA_9 `s historical records has been generated in the file \n",
      "/Users/gleonardo/Downloads/TravelOffer_Recommendation-main/TEST_DATA/HISTORICAL_DATA\n",
      "\n",
      "Evaluation Dataset of TESTDATA users has already generated!\n"
     ]
    },
    {
     "output_type": "execute_result",
     "data": {
      "text/plain": [
       "'TESTDATA'"
      ]
     },
     "metadata": {},
     "execution_count": 8
    }
   ],
   "source": [
    "dataStartName = 'TESTDATA'\n",
    "# dataCount = 1\n",
    "dataCount =10\n",
    "acc.generate_Eval_Dataset(dataStartName,dataCount)"
   ]
  },
  {
   "cell_type": "code",
   "execution_count": 9,
   "metadata": {},
   "outputs": [],
   "source": [
    "# Method Three:\n",
    "# Directly use the Generation function in Leaner\n",
    "from LEARNER import TEST_HistoricalDataGenerate\n",
    "his = TEST_HistoricalDataGenerate()"
   ]
  },
  {
   "cell_type": "code",
   "execution_count": 10,
   "metadata": {},
   "outputs": [
    {
     "output_type": "stream",
     "name": "stdout",
     "text": [
      "\n>>>\nUser TEST003 `s historical records has been generated in the file \n/Users/gleonardo/Downloads/TravelOffer_Recommendation-main/TEST_DATA/HISTORICAL_DATA\n\n"
     ]
    }
   ],
   "source": [
    "username = 'TEST003'\n",
    "his._GenerateHis2File(username)"
   ]
  },
  {
   "cell_type": "code",
   "execution_count": null,
   "metadata": {},
   "outputs": [],
   "source": []
  }
 ]
}